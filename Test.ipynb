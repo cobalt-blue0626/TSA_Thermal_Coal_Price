{
 "cells": [
  {
   "cell_type": "code",
   "execution_count": null,
   "metadata": {},
   "outputs": [],
   "source": [
    "from flask import Flask, render_template\n",
    "from bokeh.embed import components\n",
    "from bokeh.plotting import figure\n",
    "\n",
    "\n",
    "\n",
    "@app.route('/')\n",
    "def homepage():\n",
    "    title = 'home'\n",
    "    from bokeh.plotting import figure\n",
    "\n",
    "    #First Plot\n",
    "    p = figure(plot_width=400, plot_height=400, responsive = True)\n",
    "    p.circle([1, 2, 3, 4, 5], [6, 7, 2, 4, 5], size=20, color=\"navy\", alpha=0.5)\n",
    "\n",
    "    #Second Plot\n",
    "    p2 = figure(plot_width=400, plot_height=400,responsive = True)        \n",
    "    p2.square([1, 2, 3, 4, 5], [6, 7, 2, 4, 5], size=20, color=\"olive\", alpha=0.5)\n",
    "\n",
    "\n",
    "    script, div = components(p)\n",
    "    script2, div2 = components(p)\n",
    "\n",
    "    return render_template('index.html', title = title, script = script,\n",
    "    div = div, script2 = script2, div2 = div2)\n",
    "\n",
    "if __name__ == \"__main__\":\n",
    "    app.run(debug=True)"
   ]
  }
 ],
 "metadata": {
  "kernelspec": {
   "display_name": "Python 3",
   "language": "python",
   "name": "python3"
  },
  "language_info": {
   "codemirror_mode": {
    "name": "ipython",
    "version": 3
   },
   "file_extension": ".py",
   "mimetype": "text/x-python",
   "name": "python",
   "nbconvert_exporter": "python",
   "pygments_lexer": "ipython3",
   "version": "3.8.3"
  }
 },
 "nbformat": 4,
 "nbformat_minor": 4
}
